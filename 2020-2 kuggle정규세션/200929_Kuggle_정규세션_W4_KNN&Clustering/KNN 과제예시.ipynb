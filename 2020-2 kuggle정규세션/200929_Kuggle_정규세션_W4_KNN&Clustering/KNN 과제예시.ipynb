{
 "cells": [
  {
   "cell_type": "markdown",
   "metadata": {},
   "source": [
    "# KNN 과제\n",
    "- KNN 모델을 구현해주세요!\n",
    "<br>\n",
    "---\n",
    "- _**조건**_\n",
    "    1. **되도록 클래스**의 형태로 구현해주세요. 하지만 함수도 괜찮아요!\n",
    "        - 참고하실 수 있도록 클래스의 기본적인 형태는 제공해드렸으니 이용하시면 좋을 것 같아요 🙂\n",
    "        - 이 구조를 이용하지 않고, 다른 형태로 구현하셔도 됩니다.\n",
    "    2. 거리는 **유클리드 거리**로 계산해주세요.\n",
    "    3. 구현한 모델과 sklearn의 모델이 동일한 결과를 내는 지 보여주세요.\n",
    "        - KNeighborClassifier에서 k개의 데이터의 라벨에서 1위를 가려낼 수 없는 경우 (ex. K=4에서 2개는 A, 2개는 B인 경우)\n",
    "        - 랜덤하게 예측해주시면 됩니다.\n",
    "        - 이 과정에서 sklearn의 KNeighborClassifier의 결과와 달라질 수 있습니다\n",
    "    4. kuggle_KNeighborsRegressor의 경우 가장 가까운 **k개의 데이터의 target 변수의 평균**으로 예측 해주세요.\n",
    "    5. kuggle_KNeighborsClassifier의 경우 가장 가까운 **k개의 데이터의 label 중 가장 많이 등장한 label**로 예측을 해주세요.\n",
    "---\n",
    "- 과제에 대한 질문이 있으시면 카톡해주세요 🙂\n",
    "- 생각보다 쉬우니 충분히 하실 수 있습니다!\n",
    "- 예상시간 : 1시간\n",
    "---"
   ]
  },
  {
   "cell_type": "code",
   "execution_count": 1,
   "metadata": {},
   "outputs": [],
   "source": [
    "import pandas as pd\n",
    "import numpy as np\n",
    "import seaborn as sns\n",
    "import matplotlib.pyplot as plt\n",
    "\n",
    "from sklearn.neighbors import KNeighborsRegressor, KNeighborsClassifier\n",
    "from sklearn.metrics import mean_squared_error, accuracy_score\n",
    "from sklearn.model_selection import train_test_split"
   ]
  },
  {
   "cell_type": "code",
   "execution_count": 2,
   "metadata": {},
   "outputs": [],
   "source": [
    "happiness = pd.read_csv(\"datasets_894_813759_2019.csv\")"
   ]
  },
  {
   "cell_type": "code",
   "execution_count": 3,
   "metadata": {},
   "outputs": [],
   "source": [
    "iris = pd.read_csv(\"datasets_19_420_Iris.csv\")"
   ]
  },
  {
   "cell_type": "code",
   "execution_count": 4,
   "metadata": {},
   "outputs": [],
   "source": [
    "class kuggle_KNeighborsRegressor:\n",
    "    def __init__(self, n_neighbors):\n",
    "        ### 코드 작성해주세요\n",
    "        \n",
    "    def fit(self, train_X, train_y):\n",
    "        ### 코드 작성해주세요\n",
    "        \n",
    "    def predict(self, test_X):\n",
    "        pred_y = []\n",
    "        ### 코드 작성해주세요\n",
    "        return pred_y"
   ]
  },
  {
   "cell_type": "code",
   "execution_count": 5,
   "metadata": {},
   "outputs": [],
   "source": [
    "class kuggle_KNeighborsClassifier:\n",
    "    def __init__(self, n_neighbors):\n",
    "        ### 코드 작성해주세요\n",
    "    \n",
    "    def fit(self, train_X, train_y):\n",
    "        ### 코드 작성해주세요\n",
    "    \n",
    "    def predict(self, test_X):\n",
    "        pred_y = []\n",
    "        ### 코드 작성해주세요\n",
    "        return pred_y"
   ]
  },
  {
   "cell_type": "code",
   "execution_count": 6,
   "metadata": {},
   "outputs": [],
   "source": [
    "X = happiness.drop(['Overall rank', 'Country or region', 'Score'], axis=1)\n",
    "y = happiness['Score']\n",
    "train_X, test_X, train_y, test_y = train_test_split(X, y, test_size=0.2, random_state=0)"
   ]
  },
  {
   "cell_type": "code",
   "execution_count": 8,
   "metadata": {},
   "outputs": [
    {
     "name": "stdout",
     "output_type": "stream",
     "text": [
      "n_neighbors= 2 : 0.4630, 0.4630\n",
      "n_neighbors= 3 : 0.3906, 0.3906\n",
      "n_neighbors= 4 : 0.3601, 0.3601\n",
      "n_neighbors= 5 : 0.3619, 0.3619\n",
      "n_neighbors= 6 : 0.3722, 0.3722\n",
      "n_neighbors= 7 : 0.3643, 0.3643\n",
      "n_neighbors= 8 : 0.3905, 0.3905\n",
      "n_neighbors= 9 : 0.3701, 0.3701\n",
      "n_neighbors=10 : 0.3719, 0.3719\n"
     ]
    }
   ],
   "source": [
    "for n_neighbor in [2, 3, 4, 5, 6, 7, 8, 9, 10]:\n",
    "    kg_knn = kuggle_KNeighborsRegressor(n_neighbors=n_neighbor)\n",
    "    knn = KNeighborsRegressor(n_neighbors=n_neighbor, weights='uniform', metric='euclidean')\n",
    "    \n",
    "    kg_knn.fit(train_X, train_y)\n",
    "    pred_y1 = kg_knn.predict(test_X)\n",
    "    \n",
    "    knn.fit(train_X, train_y)\n",
    "    pred_y2 = knn.predict(test_X)\n",
    "    \n",
    "    print(\"n_neighbors={:2} : {:.4f}, {:.4f}\".format(n_neighbor, mean_squared_error(test_y, pred_y1), mean_squared_error(test_y, pred_y2)))"
   ]
  },
  {
   "cell_type": "code",
   "execution_count": 9,
   "metadata": {},
   "outputs": [],
   "source": [
    "X = iris.drop(['Id', 'Species'], axis=1)\n",
    "y = iris['Species']\n",
    "train_X, test_X, train_y, test_y = train_test_split(X, y, test_size=0.2, random_state=0)"
   ]
  },
  {
   "cell_type": "code",
   "execution_count": 10,
   "metadata": {},
   "outputs": [
    {
     "name": "stdout",
     "output_type": "stream",
     "text": [
      "n_neighbors= 2 : 0.9667, 0.9667\n",
      "n_neighbors= 3 : 0.9667, 0.9667\n",
      "n_neighbors= 4 : 1.0000, 0.9667\n",
      "n_neighbors= 5 : 0.9667, 0.9667\n",
      "n_neighbors= 6 : 1.0000, 0.9667\n",
      "n_neighbors= 7 : 1.0000, 0.9667\n",
      "n_neighbors= 8 : 1.0000, 0.9667\n",
      "n_neighbors= 9 : 1.0000, 0.9667\n",
      "n_neighbors=10 : 1.0000, 0.9667\n"
     ]
    }
   ],
   "source": [
    "for n_neighbor in [2, 3, 4, 5, 6, 7, 8, 9, 10]:\n",
    "    kg_knn = kuggle_KNeighborsClassifier(n_neighbors=n_neighbor)\n",
    "    knn = KNeighborsClassifier(n_neighbors=5, metric='euclidean', weights='uniform')\n",
    "    \n",
    "    kg_knn.fit(train_X, train_y)\n",
    "    pred_y1 = kg_knn.predict(test_X)\n",
    "    \n",
    "    knn.fit(train_X, train_y)\n",
    "    pred_y2 = knn.predict(test_X)\n",
    "    \n",
    "    print(\"n_neighbors={:2} : {:.4f}, {:.4f}\".format(n_neighbor, accuracy_score(test_y, pred_y1), accuracy_score(test_y, pred_y2)))"
   ]
  }
 ],
 "metadata": {
  "kernelspec": {
   "display_name": "Python 3",
   "language": "python",
   "name": "python3"
  },
  "language_info": {
   "codemirror_mode": {
    "name": "ipython",
    "version": 3
   },
   "file_extension": ".py",
   "mimetype": "text/x-python",
   "name": "python",
   "nbconvert_exporter": "python",
   "pygments_lexer": "ipython3",
   "version": "3.7.6"
  },
  "toc": {
   "base_numbering": 1,
   "nav_menu": {},
   "number_sections": false,
   "sideBar": true,
   "skip_h1_title": false,
   "title_cell": "Table of Contents",
   "title_sidebar": "Contents",
   "toc_cell": false,
   "toc_position": {},
   "toc_section_display": true,
   "toc_window_display": true
  }
 },
 "nbformat": 4,
 "nbformat_minor": 4
}
