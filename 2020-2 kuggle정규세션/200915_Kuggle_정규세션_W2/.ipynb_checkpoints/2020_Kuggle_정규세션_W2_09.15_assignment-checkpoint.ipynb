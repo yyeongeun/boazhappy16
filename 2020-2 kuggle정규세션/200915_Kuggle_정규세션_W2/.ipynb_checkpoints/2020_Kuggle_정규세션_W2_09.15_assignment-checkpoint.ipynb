{
 "cells": [
  {
   "cell_type": "markdown",
   "metadata": {},
   "source": [
    "# Part 1"
   ]
  },
  {
   "cell_type": "markdown",
   "metadata": {},
   "source": [
    "## Challenge1 - 간단한 웹페이지 만들어보기\n",
    "2주차에 배운 태그와 속성을 이용해서 다음과 같은 간단한 웹페이지를 만들어 보세요!"
   ]
  },
  {
   "cell_type": "markdown",
   "metadata": {},
   "source": [
    "<img src=\"image/6.png\">"
   ]
  },
  {
   "cell_type": "markdown",
   "metadata": {},
   "source": [
    "## Challenge2 - 4위부터 100위까지의 영상 정보 선택하기\n",
    "다음 순서에 맞게 4위부터 100위 영상의 제목, 채널명, 재생 수, 좋아요 수를 선택하는 선택자를 찾아봅시다.\n",
    "1. 4 - 100위 영상을 포함하는 컨테이너 선택자 찾기 <br>\n",
    "` 선택자 검증(검색)할 때 97개의 데이터가 나와야합니다 :) ` <br>\n",
    "2. 제목, 채널명, 재생 수, 좋아요 수에 해당하는 선택자 찾기 <br>\n",
    "`Challenge를 통해 찾아낸 선택자는 3주차 데이터수집기 만들기 시간에 활용됩니다. 편한 방법으로 꼭 저장해주세요.`"
   ]
  },
  {
   "cell_type": "markdown",
   "metadata": {},
   "source": [
    "## Homework1 -  Y-Combinator 스타트업 뉴스기사 가져오기\n",
    "Y-Combinator(https://news.ycombinator.com) 뉴스 페이지에 접속해서 아래 정보들을 가지고 있는 태그의 선택자를 찾아봅시다.\n",
    "1. 컨테이너\n",
    "2. 순위\n",
    "3. 제목\n",
    "4. 출처"
   ]
  },
  {
   "cell_type": "markdown",
   "metadata": {},
   "source": [
    "## Homework2 - 네이버 시리즈 e북 인기 TOP100 데이터 가져오기\n",
    "네이버 시리즈 e북 인기 TOP100 페이지에서(https://series.naver.com/ebook/top100List.nhn) 아래 데이터를 선택할 수 있는 컨테이너를 찾아봅니다.\n",
    "1. 컨테이너\n",
    "2. 제목\n",
    "3. 저자"
   ]
  },
  {
   "cell_type": "markdown",
   "metadata": {},
   "source": [
    "# Part2"
   ]
  },
  {
   "cell_type": "markdown",
   "metadata": {},
   "source": [
    "## Challenge1 - 4위에서 100위까지 데이터 수집하기"
   ]
  },
  {
   "cell_type": "markdown",
   "metadata": {},
   "source": [
    "앞에서 만든 데이터수집기 코드(1-3영상)에 4-100위 영상에 대한 제목, 채널이름, 재생수, 좋아요수를 수집하는 코드를 추가해서 1-100위 영상에 대한 데이터를 모두 출력하는 코드를 만들어봅시다.\n",
    "1. 컨테이너 수집하기(97개; 4-100위)\n",
    "2. 각 세부데이터 수집하기\n",
    "3. 컨테이너 반복하며 수집하기\n",
    "4. (선택)예쁘게 출력하기 <br>\n",
    "`Challenge를 통해 찾아낸 선택자는 3주차 데이터수집기 만들기 시간에 활용됩니다. 편한 방법으로 꼭 저장해주세요.`"
   ]
  },
  {
   "cell_type": "code",
   "execution_count": null,
   "metadata": {},
   "outputs": [],
   "source": []
  },
  {
   "cell_type": "markdown",
   "metadata": {},
   "source": [
    "## Challenge2 - Y-Combinator 뉴스기사 가져오기"
   ]
  },
  {
   "cell_type": "markdown",
   "metadata": {},
   "source": [
    "1주차 homework1에서 다뤘던 Y-Combinator 스타트업 뉴스기사(https://news.ycombinator.com) 에서 순위, 제목을 수집하는 파이썬 코드를 작성해봅니다. <br>\n",
    "URL 요청값 규칙도 직접찾아내서 1~3페이지까지 기사 페이지를 수집하는 수집기를 만들어 봅시다. \n",
    "1. 컨테이너, 순위, 제목 선택자 찾기 - 1주차 homework1 참고\n",
    "2. 페이지를 변환시키는 URL 요청값 규칙 찾기\n",
    "3. 코딩을 통해 수집기 완성하기!"
   ]
  },
  {
   "cell_type": "code",
   "execution_count": null,
   "metadata": {},
   "outputs": [],
   "source": []
  },
  {
   "cell_type": "markdown",
   "metadata": {},
   "source": [
    "## Homework1 - 네이버 e북 인기 TOP100 데이터 수집\n",
    "네이버 시리즈 e북 인기 TOP100 페이지에서(https://series.naver.com/ebook/top100List.nhn) 아래 데이터를 수집하는 코드를 만들어봅니다.\n",
    "1. 컨테이너, 제목, 저자를 선택하는 선택자를 찾아냅니다.\n",
    "2. 파이썬을 활용해서 데이터 수집기를 만들어냅니다.\n",
    "3. (심화)1-20위, 21-40위, ... , 81-100위 서적을 모두 수집할 수 있는 요청값을 찾아 수집기를 만들어 냅니다.\n",
    "4. 수집한 데이터를 원하는 방식으로 저장합니다. (csv, xlsx)"
   ]
  },
  {
   "cell_type": "code",
   "execution_count": null,
   "metadata": {},
   "outputs": [],
   "source": []
  },
  {
   "cell_type": "markdown",
   "metadata": {},
   "source": [
    "## Homework2 - 다음뉴스 기사 데이터 수집하기\n",
    "네이버뉴스 기사 데이터 수집과 같은 방법으로 다음뉴스 기사 데이터를 1-3페이지까지 수집하는 수집기를 만들어봅니다. <br>\n",
    "**수집목표: 기사제목/기사 요약** <br>\n",
    "1. 컨테이너, 기사제목, 기사 요약 선택자 찾기\n",
    "2. 페이지를 변환하는 요청값 규칙 찾기\n",
    "3. 코딩을 통해 데이터 수집기 만들기 \n",
    "4. 수집한 데이터를 원하는 방식으로 저장합니다. (csv, xlsx) <br>\n",
    "`참고: 다음 뉴스페이지는 역으로 headers가 있는 데이터 요청을 크롤링 시도라고 이해합니다. 이번에는 헤더값을 넣지 않고 수집기를 만들어봅니다.`"
   ]
  },
  {
   "cell_type": "markdown",
   "metadata": {},
   "source": [
    "# Part3 "
   ]
  },
  {
   "cell_type": "markdown",
   "metadata": {},
   "source": [
    "**참고** <br>\n",
    "같은 선택자로 선택되는 데이터에 저장되어 있는 경우에는 아이디나 클래스로 선택자를 구분할 수 없고, 같은 태그 안의 같은 위치에 있기 때문에 상하관계를 통해서도 구분할 수 없습니다. 그럴때는 다음과 같은 방법을 사용하실 수 있습니다. <br>\n",
    "<br>\n",
    "`방법 1. 리스트 인덱싱 활용하기`\n",
    "<img src=\"image/23.png\">"
   ]
  },
  {
   "cell_type": "code",
   "execution_count": null,
   "metadata": {},
   "outputs": [],
   "source": [
    "#코드를 실행하지 마시고 이용하는 방법만 참고해주세요!\n",
    "movie = html.select(\"dl.lst_dsc\")\n",
    "for m in movie:\n",
    "    info = m.select(\"dl.info_txt1 dd\") \n",
    "    genre = info[0].select(\"a\") \n",
    "    directors = info[1].select(\"a\") \n",
    "    actors = info[2].select(\"a\") "
   ]
  },
  {
   "cell_type": "markdown",
   "metadata": {},
   "source": [
    "`방법 2. 선택자 응용하기(nth-of-type)` <br>\n",
    "선택자 레벨에서도 이 문제를 해결할 수 있습니다. 아래와 같이 nth-of-type()을 활용하면 n번째 데이터를 선택할 수 있습니다. <br>\n",
    "`태그이름:nth-of-type(N)`방법을 활용하면 N번째 태그 데이터를 선택할 수 있습니다. <br>\n",
    "프로그래밍 언어는 대부분을 숫자를 0부터 세지만 **`nth-of-type()`방법의 경우는 숫자를 1부터 세게 됩니다.** <br>\n",
    "그리고 **`nth-of-type()`의 앞에는 클래스 또는 아이디가 올 수 없기 때문에** 해당하는 태그가 몇번째 태그인지도 꼭 확인해야합니다."
   ]
  },
  {
   "cell_type": "code",
   "execution_count": null,
   "metadata": {},
   "outputs": [],
   "source": [
    "#코드를 실행하지 마시고 이용하는 방법만 참고해주세요!\n",
    "movie = html.select(\"dl.lst_dsc\") \n",
    "for m in movie:\n",
    "    genre = m.select(\"dl.info_txt1 dd:nth-of-type(1) a\") \n",
    "    directors = m.select(\"dl.info_txt1 dd:nth-of-type(2) a\") \n",
    "    actors = m.select(\"dl.info_txt1 dd:nth-of-type(3) a\") "
   ]
  },
  {
   "cell_type": "markdown",
   "metadata": {},
   "source": [
    "## Challenge1 - IMDb 영화정보 수집하기\n",
    "IMDb(https://www.imdb.com/movies-in-theaters/?ref_=nv_mv_inth) 의 현재 상영중 영화목록에서 상영 중인 영화의 제목 /  감독 / 배우 데이터를 수집합니다. <br>\n",
    "1. 컨테이너, 제목, 평점, 감독, 배우 데이터를 선택할 수 있는 선택자를 찾습니다.\n",
    "2. 파이썬을 통해 데이터를 수집할 수 있는 데이터 수집기를 만듭니다.\n",
    "3. (심화) 조건문을 활용하여 Action 장르의 영화만 출력합니다."
   ]
  },
  {
   "cell_type": "markdown",
   "metadata": {},
   "source": [
    "## Challenge2 - IMDb 포스터 저장하기\n",
    "IMDb(https://www.imdb.com/movies-in-theaters/?ref_=nv_mv_inth) 의 현재 상영중 영화목록에서 현재 상영중 영화의 상세페이지에 접속해 포스터를 저장합니다. <br>\n",
    "1. 상세 페이지에 접속할 수 있는 링크주소를 수집합니다.\n",
    "2. 상세 페이지의 포스터를 선택할 수 있는 선택자를 찾습니다.\n",
    "3. 포스터 이미지가 저장되어 있는 속성을 찾아 포스터를 다운 받습니다. <br>\n",
    "\n",
    "`다운받은 포스터와 소스코드가 섞이지 않게하기 위해서 poster 디렉토리를 만들어 포스터 이미지를 저장합니다.`\n",
    "\n"
   ]
  },
  {
   "cell_type": "markdown",
   "metadata": {},
   "source": [
    "## Homework - 다음 영화 데이터 수집하기\n",
    "다음영화 - 예매순위 페이지(http://ticket2.movie.daum.net/Movie/MovieRankList.aspx) 에서 영화별 상세페이지에 접속하여 영화의 제목 / 평점 / 장르 / 감독 / 배우 데이터를 수집합니다. <br>\n",
    "1. 예매순위 페이지에서 각 영화 상세페이지로 들어갈 수 있는 링크를 찾습니다.\n",
    "2. 상세페이지에서 원하는 데이터(제목, 평점, 장르, 감독, 배우)를 찾을 수 있는 선택자를 찾습니다.\n",
    "3. 코딩을 통해 데이터 수집기를 완성합니다.\n",
    "\n",
    "`hint) 다음영화 예매페이지의 경우, a태그에 저장되있는 링크는 완벽한 URL의 형태를 띄고 있습니다. 굳이 기존페이지의 주소를 붙여주지 않아도 상관없습니다 :)` <br>\n",
    "`hint) 영화의 상세페이지가 없는 경우에 에러가 발생할 수 있으니 확인하시고 코드를 완성해주시기 바랍니다.`"
   ]
  },
  {
   "cell_type": "markdown",
   "metadata": {},
   "source": [
    "# Part4"
   ]
  },
  {
   "cell_type": "markdown",
   "metadata": {},
   "source": [
    "## Challenge1 - 파파고 영단어 해석기 만들기 "
   ]
  },
  {
   "cell_type": "markdown",
   "metadata": {},
   "source": [
    "<img src=\"image/27.png\">"
   ]
  },
  {
   "cell_type": "markdown",
   "metadata": {},
   "source": [
    "Selenium을 사용해서 파파고(https://papago.naver.com)에서 \"seize the day\"라는 문장을 입력, 번역결과를 출력하는 프로그램을 만들어봅니다.\n",
    "1. 파파고 번역 서비스 이용 절차를 적어봅니다.\n",
    "2. 지연시간이 필요한 부분을 생각해봅니다.\n",
    "3. 코딩을 통해 번역결과를 출력합니다.\n",
    "`입력도구(input, textarea)를 찾아 .send_keys를 사용하세요.`"
   ]
  },
  {
   "cell_type": "code",
   "execution_count": null,
   "metadata": {},
   "outputs": [],
   "source": []
  },
  {
   "cell_type": "markdown",
   "metadata": {},
   "source": [
    "## Challenge2 - 구글지도 데이터 수집하기\n",
    "구글지도(https://www.google.com/maps/)에 카페를 검색해서 검색된 카페들이 이름, 평점, 주소를 수집합니다.\n",
    "1. 구글지도에서 검색하고 결과를 확인하는 절차를 생각해봅니다.\n",
    "2. 컨테이너, 이름, 평점, 주소를 선택할 수 있는 선택자를 찾습니다.\n",
    "3. 코딩을 통해 데이터를 수집합니다.\n",
    "\n",
    "`구글의 경우 지연시간을 길게 주셔야 합니다. (평균 5 ~ 10초)`"
   ]
  },
  {
   "cell_type": "code",
   "execution_count": null,
   "metadata": {},
   "outputs": [],
   "source": []
  },
  {
   "cell_type": "markdown",
   "metadata": {},
   "source": [
    "## Homework - 인스타그램 본문 수집하기\n",
    "인스타그램에서 ootd 해시태그 검색결과(https://www.instagram.com/explore/tags/ootd/) 페이지에 접속해서 12개 포스트의 본문 내용을 수집합니다.\n",
    "1. 본문 데이터 수집을 수집을 위한 절차를 생각해봅니다.\n",
    "2. 선택자와 지연시기를 생각해봅니다.\n",
    "3. 코딩을 통해 본문 수집기를 완성합니다.\n",
    "\n",
    "`인스타그램의 class/id는 자동 생성프로그램에 의해 랜덤하게 생성됩니다.`"
   ]
  },
  {
   "cell_type": "code",
   "execution_count": null,
   "metadata": {},
   "outputs": [],
   "source": []
  }
 ],
 "metadata": {
  "kernelspec": {
   "display_name": "Python 3",
   "language": "python",
   "name": "python3"
  },
  "language_info": {
   "codemirror_mode": {
    "name": "ipython",
    "version": 3
   },
   "file_extension": ".py",
   "mimetype": "text/x-python",
   "name": "python",
   "nbconvert_exporter": "python",
   "pygments_lexer": "ipython3",
   "version": "3.7.4"
  }
 },
 "nbformat": 4,
 "nbformat_minor": 2
}
