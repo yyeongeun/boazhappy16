{
 "cells": [
  {
   "cell_type": "markdown",
   "metadata": {},
   "source": [
    "Selenium\n",
    "=====\n",
    "Selenium 설치\n",
    "-----\n",
    "Selenium 설치는 조금 복잡합니다.<br>\n",
    "우선 cmd창에 `pip install selenium`부터 실행하여 설치합니다.<br>\n",
    "그리고 <https://sites.google.com/a/chromium.org/chromedriver/downloads>에서 자기 크롬 버전에 맞는 실행파일을 다운 받아줍니다.<nr>\n",
    "다음, 다운 받은 위치의 경로를 복사해서 아래에 붙여 넣어주면 됩니다."
   ]
  },
  {
   "cell_type": "code",
   "execution_count": 11,
   "metadata": {},
   "outputs": [
    {
     "name": "stdout",
     "output_type": "stream",
     "text": [
      "Requirement already satisfied: selenium in c:\\users\\yeongeunkim\\anaconda3\\lib\\site-packages (3.141.0)\n",
      "Requirement already satisfied: urllib3 in c:\\users\\yeongeunkim\\anaconda3\\lib\\site-packages (from selenium) (1.24.2)\n",
      "Note: you may need to restart the kernel to use updated packages.\n"
     ]
    }
   ],
   "source": [
    "pip install selenium"
   ]
  },
  {
   "cell_type": "code",
   "execution_count": 22,
   "metadata": {},
   "outputs": [],
   "source": [
    "from selenium import webdriver\n",
    "import time\n",
    "\n",
    "# 본인의 경로 설정해서 붙여두기\n",
    "# mac의 경우 확장자 (.exe)없이 불러오기\n",
    "# driver = webdriver.Chrome(executable_path='/경로/chromedriver.exe')\n",
    "driver = webdriver.Chrome(executable_path='C:/Users/yeongeunkim/Desktop/github/boazhappy repository/16기 분석/210208 공동세션_크롤링/chromedriver_win32/chromedriver.exe')"
   ]
  },
  {
   "cell_type": "code",
   "execution_count": 23,
   "metadata": {},
   "outputs": [],
   "source": [
    "import requests \n",
    "from bs4 import BeautifulSoup"
   ]
  },
  {
   "cell_type": "markdown",
   "metadata": {},
   "source": [
    "인스타그램 크롤링\n",
    "-----\n",
    "인스타그램 해시태그를 통해 검색한 내용을 크롤링 해봅니다."
   ]
  },
  {
   "cell_type": "code",
   "execution_count": 24,
   "metadata": {},
   "outputs": [],
   "source": [
    "# 인스타그램 url 불러오기\n",
    "driver.get('https://www.instagram.com/')"
   ]
  },
  {
   "cell_type": "code",
   "execution_count": 25,
   "metadata": {},
   "outputs": [],
   "source": [
    "# ID와 비밀번호 입력//*[@id=\"loginForm\"]/div/div[1]/div/label/input\n",
    "# 해당 태그에서 오른쪽 마우스 copy->copy xpath\n",
    "# //*[@id=\"loginForm\"]/div/div[1]/div/label/input\n",
    "\n",
    "# send_keys에 id랑 password 쓰기\n",
    "# login 클릭을 안했기 때문에 로그인은 안되어있음\n",
    "\n",
    "\n",
    "driver.find_element_by_xpath('//*[@id=\"loginForm\"]/div/div[1]/div/label/input').send_keys('ansdlf201567@gmail.com')\n",
    "driver.find_element_by_xpath('//*[@id=\"loginForm\"]/div/div[2]/div/label/input').send_keys('kye4192128,')"
   ]
  },
  {
   "cell_type": "code",
   "execution_count": 26,
   "metadata": {},
   "outputs": [],
   "source": [
    "# 로그인 클릭\n",
    "# xpath : //*[@id=\"loginForm\"]/div/div[3]/button/div\n",
    "driver.find_element_by_xpath('//*[@id=\"loginForm\"]/div/div[3]/button/div').click()"
   ]
  },
  {
   "cell_type": "code",
   "execution_count": 6,
   "metadata": {
    "collapsed": true,
    "jupyter": {
     "outputs_hidden": true
    }
   },
   "outputs": [
    {
     "ename": "NoSuchElementException",
     "evalue": "Message: no such element: Unable to locate element: {\"method\":\"xpath\",\"selector\":\"//*[@id=\"react-root\"]/section/main/div/div/div/div/button\"}\n  (Session info: chrome=88.0.4324.150)\n",
     "output_type": "error",
     "traceback": [
      "\u001b[1;31m---------------------------------------------------------------------------\u001b[0m",
      "\u001b[1;31mNoSuchElementException\u001b[0m                    Traceback (most recent call last)",
      "\u001b[1;32m<ipython-input-6-df285e5b06e6>\u001b[0m in \u001b[0;36m<module>\u001b[1;34m\u001b[0m\n\u001b[0;32m      1\u001b[0m \u001b[1;31m# 로그인 정보 저장 (나중에 하기)\u001b[0m\u001b[1;33m\u001b[0m\u001b[1;33m\u001b[0m\u001b[1;33m\u001b[0m\u001b[0m\n\u001b[1;32m----> 2\u001b[1;33m \u001b[0mdriver\u001b[0m\u001b[1;33m.\u001b[0m\u001b[0mfind_element_by_xpath\u001b[0m\u001b[1;33m(\u001b[0m\u001b[1;34m'//*[@id=\"react-root\"]/section/main/div/div/div/div/button'\u001b[0m\u001b[1;33m)\u001b[0m\u001b[1;33m.\u001b[0m\u001b[0mclick\u001b[0m\u001b[1;33m(\u001b[0m\u001b[1;33m)\u001b[0m\u001b[1;33m\u001b[0m\u001b[1;33m\u001b[0m\u001b[0m\n\u001b[0m\u001b[0;32m      3\u001b[0m \u001b[0mtime\u001b[0m\u001b[1;33m.\u001b[0m\u001b[0msleep\u001b[0m\u001b[1;33m(\u001b[0m\u001b[1;36m3\u001b[0m\u001b[1;33m)\u001b[0m\u001b[1;33m\u001b[0m\u001b[1;33m\u001b[0m\u001b[0m\n",
      "\u001b[1;32m~\\Anaconda3\\lib\\site-packages\\selenium\\webdriver\\remote\\webdriver.py\u001b[0m in \u001b[0;36mfind_element_by_xpath\u001b[1;34m(self, xpath)\u001b[0m\n\u001b[0;32m    392\u001b[0m             \u001b[0melement\u001b[0m \u001b[1;33m=\u001b[0m \u001b[0mdriver\u001b[0m\u001b[1;33m.\u001b[0m\u001b[0mfind_element_by_xpath\u001b[0m\u001b[1;33m(\u001b[0m\u001b[1;34m'//div/td[1]'\u001b[0m\u001b[1;33m)\u001b[0m\u001b[1;33m\u001b[0m\u001b[1;33m\u001b[0m\u001b[0m\n\u001b[0;32m    393\u001b[0m         \"\"\"\n\u001b[1;32m--> 394\u001b[1;33m         \u001b[1;32mreturn\u001b[0m \u001b[0mself\u001b[0m\u001b[1;33m.\u001b[0m\u001b[0mfind_element\u001b[0m\u001b[1;33m(\u001b[0m\u001b[0mby\u001b[0m\u001b[1;33m=\u001b[0m\u001b[0mBy\u001b[0m\u001b[1;33m.\u001b[0m\u001b[0mXPATH\u001b[0m\u001b[1;33m,\u001b[0m \u001b[0mvalue\u001b[0m\u001b[1;33m=\u001b[0m\u001b[0mxpath\u001b[0m\u001b[1;33m)\u001b[0m\u001b[1;33m\u001b[0m\u001b[1;33m\u001b[0m\u001b[0m\n\u001b[0m\u001b[0;32m    395\u001b[0m \u001b[1;33m\u001b[0m\u001b[0m\n\u001b[0;32m    396\u001b[0m     \u001b[1;32mdef\u001b[0m \u001b[0mfind_elements_by_xpath\u001b[0m\u001b[1;33m(\u001b[0m\u001b[0mself\u001b[0m\u001b[1;33m,\u001b[0m \u001b[0mxpath\u001b[0m\u001b[1;33m)\u001b[0m\u001b[1;33m:\u001b[0m\u001b[1;33m\u001b[0m\u001b[1;33m\u001b[0m\u001b[0m\n",
      "\u001b[1;32m~\\Anaconda3\\lib\\site-packages\\selenium\\webdriver\\remote\\webdriver.py\u001b[0m in \u001b[0;36mfind_element\u001b[1;34m(self, by, value)\u001b[0m\n\u001b[0;32m    976\u001b[0m         return self.execute(Command.FIND_ELEMENT, {\n\u001b[0;32m    977\u001b[0m             \u001b[1;34m'using'\u001b[0m\u001b[1;33m:\u001b[0m \u001b[0mby\u001b[0m\u001b[1;33m,\u001b[0m\u001b[1;33m\u001b[0m\u001b[1;33m\u001b[0m\u001b[0m\n\u001b[1;32m--> 978\u001b[1;33m             'value': value})['value']\n\u001b[0m\u001b[0;32m    979\u001b[0m \u001b[1;33m\u001b[0m\u001b[0m\n\u001b[0;32m    980\u001b[0m     \u001b[1;32mdef\u001b[0m \u001b[0mfind_elements\u001b[0m\u001b[1;33m(\u001b[0m\u001b[0mself\u001b[0m\u001b[1;33m,\u001b[0m \u001b[0mby\u001b[0m\u001b[1;33m=\u001b[0m\u001b[0mBy\u001b[0m\u001b[1;33m.\u001b[0m\u001b[0mID\u001b[0m\u001b[1;33m,\u001b[0m \u001b[0mvalue\u001b[0m\u001b[1;33m=\u001b[0m\u001b[1;32mNone\u001b[0m\u001b[1;33m)\u001b[0m\u001b[1;33m:\u001b[0m\u001b[1;33m\u001b[0m\u001b[1;33m\u001b[0m\u001b[0m\n",
      "\u001b[1;32m~\\Anaconda3\\lib\\site-packages\\selenium\\webdriver\\remote\\webdriver.py\u001b[0m in \u001b[0;36mexecute\u001b[1;34m(self, driver_command, params)\u001b[0m\n\u001b[0;32m    319\u001b[0m         \u001b[0mresponse\u001b[0m \u001b[1;33m=\u001b[0m \u001b[0mself\u001b[0m\u001b[1;33m.\u001b[0m\u001b[0mcommand_executor\u001b[0m\u001b[1;33m.\u001b[0m\u001b[0mexecute\u001b[0m\u001b[1;33m(\u001b[0m\u001b[0mdriver_command\u001b[0m\u001b[1;33m,\u001b[0m \u001b[0mparams\u001b[0m\u001b[1;33m)\u001b[0m\u001b[1;33m\u001b[0m\u001b[1;33m\u001b[0m\u001b[0m\n\u001b[0;32m    320\u001b[0m         \u001b[1;32mif\u001b[0m \u001b[0mresponse\u001b[0m\u001b[1;33m:\u001b[0m\u001b[1;33m\u001b[0m\u001b[1;33m\u001b[0m\u001b[0m\n\u001b[1;32m--> 321\u001b[1;33m             \u001b[0mself\u001b[0m\u001b[1;33m.\u001b[0m\u001b[0merror_handler\u001b[0m\u001b[1;33m.\u001b[0m\u001b[0mcheck_response\u001b[0m\u001b[1;33m(\u001b[0m\u001b[0mresponse\u001b[0m\u001b[1;33m)\u001b[0m\u001b[1;33m\u001b[0m\u001b[1;33m\u001b[0m\u001b[0m\n\u001b[0m\u001b[0;32m    322\u001b[0m             response['value'] = self._unwrap_value(\n\u001b[0;32m    323\u001b[0m                 response.get('value', None))\n",
      "\u001b[1;32m~\\Anaconda3\\lib\\site-packages\\selenium\\webdriver\\remote\\errorhandler.py\u001b[0m in \u001b[0;36mcheck_response\u001b[1;34m(self, response)\u001b[0m\n\u001b[0;32m    240\u001b[0m                 \u001b[0malert_text\u001b[0m \u001b[1;33m=\u001b[0m \u001b[0mvalue\u001b[0m\u001b[1;33m[\u001b[0m\u001b[1;34m'alert'\u001b[0m\u001b[1;33m]\u001b[0m\u001b[1;33m.\u001b[0m\u001b[0mget\u001b[0m\u001b[1;33m(\u001b[0m\u001b[1;34m'text'\u001b[0m\u001b[1;33m)\u001b[0m\u001b[1;33m\u001b[0m\u001b[1;33m\u001b[0m\u001b[0m\n\u001b[0;32m    241\u001b[0m             \u001b[1;32mraise\u001b[0m \u001b[0mexception_class\u001b[0m\u001b[1;33m(\u001b[0m\u001b[0mmessage\u001b[0m\u001b[1;33m,\u001b[0m \u001b[0mscreen\u001b[0m\u001b[1;33m,\u001b[0m \u001b[0mstacktrace\u001b[0m\u001b[1;33m,\u001b[0m \u001b[0malert_text\u001b[0m\u001b[1;33m)\u001b[0m\u001b[1;33m\u001b[0m\u001b[1;33m\u001b[0m\u001b[0m\n\u001b[1;32m--> 242\u001b[1;33m         \u001b[1;32mraise\u001b[0m \u001b[0mexception_class\u001b[0m\u001b[1;33m(\u001b[0m\u001b[0mmessage\u001b[0m\u001b[1;33m,\u001b[0m \u001b[0mscreen\u001b[0m\u001b[1;33m,\u001b[0m \u001b[0mstacktrace\u001b[0m\u001b[1;33m)\u001b[0m\u001b[1;33m\u001b[0m\u001b[1;33m\u001b[0m\u001b[0m\n\u001b[0m\u001b[0;32m    243\u001b[0m \u001b[1;33m\u001b[0m\u001b[0m\n\u001b[0;32m    244\u001b[0m     \u001b[1;32mdef\u001b[0m \u001b[0m_value_or_default\u001b[0m\u001b[1;33m(\u001b[0m\u001b[0mself\u001b[0m\u001b[1;33m,\u001b[0m \u001b[0mobj\u001b[0m\u001b[1;33m,\u001b[0m \u001b[0mkey\u001b[0m\u001b[1;33m,\u001b[0m \u001b[0mdefault\u001b[0m\u001b[1;33m)\u001b[0m\u001b[1;33m:\u001b[0m\u001b[1;33m\u001b[0m\u001b[1;33m\u001b[0m\u001b[0m\n",
      "\u001b[1;31mNoSuchElementException\u001b[0m: Message: no such element: Unable to locate element: {\"method\":\"xpath\",\"selector\":\"//*[@id=\"react-root\"]/section/main/div/div/div/div/button\"}\n  (Session info: chrome=88.0.4324.150)\n"
     ]
    }
   ],
   "source": [
    "# 로그인 정보 저장 (나중에 하기)\n",
    "driver.find_element_by_xpath('//*[@id=\"react-root\"]/section/main/div/div/div/div/button').click()\n",
    "time.sleep(3)"
   ]
  },
  {
   "cell_type": "code",
   "execution_count": 28,
   "metadata": {},
   "outputs": [],
   "source": [
    "# 알림설정 (나중에 하기)\n",
    "# xpath : /html/body/div[3]/div/div/div/div[3]/button[2]\n",
    "driver.find_element_by_xpath('/html/body/div[4]/div/div/div/div[3]/button[2]').click()"
   ]
  },
  {
   "cell_type": "code",
   "execution_count": 30,
   "metadata": {},
   "outputs": [],
   "source": [
    "# 본인이 원하는 해시태그 검색\n",
    "# xpath : //*[@id=\"react-root\"]/section/nav/div[2]/div/div/div[2]/input\n",
    "driver.find_element_by_xpath('//*[@id=\"react-root\"]/section/nav/div[2]/div/div/div[2]/input').send_keys(\"#정재현\")"
   ]
  },
  {
   "cell_type": "code",
   "execution_count": 31,
   "metadata": {},
   "outputs": [],
   "source": [
    "# 검색된 해시태그 클릭\n",
    "driver.find_element_by_xpath('//*[@id=\"react-root\"]/section/nav/div[2]/div/div/div[2]/div[3]/div/div[2]/div/div[1]/a').click()"
   ]
  },
  {
   "cell_type": "code",
   "execution_count": 32,
   "metadata": {},
   "outputs": [],
   "source": [
    "# 자동 스크롤러 만들기 \n",
    "\n",
    "from selenium.webdriver.common.keys import Keys\n",
    "\n",
    "page_scroll = 0\n",
    "\n",
    "while page_scroll < 20:\n",
    "    driver.find_element_by_tag_name('body').send_keys(Keys.PAGE_DOWN)\n",
    "    time.sleep(2)\n",
    "    page_scroll += 1"
   ]
  },
  {
   "cell_type": "code",
   "execution_count": 33,
   "metadata": {},
   "outputs": [
    {
     "data": {
      "text/plain": [
       "['//*[@id=\"react-root\"]/section/main/article/div[2]/div/div[1]/div[1]/a',\n",
       " '//*[@id=\"react-root\"]/section/main/article/div[2]/div/div[1]/div[2]/a',\n",
       " '//*[@id=\"react-root\"]/section/main/article/div[2]/div/div[1]/div[3]/a',\n",
       " '//*[@id=\"react-root\"]/section/main/article/div[2]/div/div[2]/div[1]/a',\n",
       " '//*[@id=\"react-root\"]/section/main/article/div[2]/div/div[2]/div[2]/a',\n",
       " '//*[@id=\"react-root\"]/section/main/article/div[2]/div/div[2]/div[3]/a',\n",
       " '//*[@id=\"react-root\"]/section/main/article/div[2]/div/div[3]/div[1]/a',\n",
       " '//*[@id=\"react-root\"]/section/main/article/div[2]/div/div[3]/div[2]/a',\n",
       " '//*[@id=\"react-root\"]/section/main/article/div[2]/div/div[3]/div[3]/a',\n",
       " '//*[@id=\"react-root\"]/section/main/article/div[2]/div/div[4]/div[1]/a',\n",
       " '//*[@id=\"react-root\"]/section/main/article/div[2]/div/div[4]/div[2]/a',\n",
       " '//*[@id=\"react-root\"]/section/main/article/div[2]/div/div[4]/div[3]/a',\n",
       " '//*[@id=\"react-root\"]/section/main/article/div[2]/div/div[5]/div[1]/a',\n",
       " '//*[@id=\"react-root\"]/section/main/article/div[2]/div/div[5]/div[2]/a',\n",
       " '//*[@id=\"react-root\"]/section/main/article/div[2]/div/div[5]/div[3]/a',\n",
       " '//*[@id=\"react-root\"]/section/main/article/div[2]/div/div[6]/div[1]/a',\n",
       " '//*[@id=\"react-root\"]/section/main/article/div[2]/div/div[6]/div[2]/a',\n",
       " '//*[@id=\"react-root\"]/section/main/article/div[2]/div/div[6]/div[3]/a',\n",
       " '//*[@id=\"react-root\"]/section/main/article/div[2]/div/div[7]/div[1]/a',\n",
       " '//*[@id=\"react-root\"]/section/main/article/div[2]/div/div[7]/div[2]/a',\n",
       " '//*[@id=\"react-root\"]/section/main/article/div[2]/div/div[7]/div[3]/a',\n",
       " '//*[@id=\"react-root\"]/section/main/article/div[2]/div/div[8]/div[1]/a',\n",
       " '//*[@id=\"react-root\"]/section/main/article/div[2]/div/div[8]/div[2]/a',\n",
       " '//*[@id=\"react-root\"]/section/main/article/div[2]/div/div[8]/div[3]/a',\n",
       " '//*[@id=\"react-root\"]/section/main/article/div[2]/div/div[9]/div[1]/a',\n",
       " '//*[@id=\"react-root\"]/section/main/article/div[2]/div/div[9]/div[2]/a',\n",
       " '//*[@id=\"react-root\"]/section/main/article/div[2]/div/div[9]/div[3]/a',\n",
       " '//*[@id=\"react-root\"]/section/main/article/div[2]/div/div[10]/div[1]/a',\n",
       " '//*[@id=\"react-root\"]/section/main/article/div[2]/div/div[10]/div[2]/a',\n",
       " '//*[@id=\"react-root\"]/section/main/article/div[2]/div/div[10]/div[3]/a']"
      ]
     },
     "execution_count": 33,
     "metadata": {},
     "output_type": "execute_result"
    }
   ],
   "source": [
    "# xpath_list 만들기\n",
    "\n",
    "#xplath post별로 가져오고 규칙확인해보기\n",
    "# //*[@id=\"react-root\"]/section/main/article/div[2]/div/div[1]/div[1]/a -> 1행1얄\n",
    "# //*[@id=\"react-root\"]/section/main/article/div[2]/div/div[1]/div[2]/a -> 1행2열\n",
    "# //*[@id=\"react-root\"]/section/main/article/div[2]/div/div[1]/div[3]/a -> 1행3열\n",
    "# //*[@id=\"react-root\"]/section/main/article/div[2]/div/div[2]/div[1]/a -> 2행1열\n",
    "\n",
    "xpath_list = []\n",
    "\n",
    "for i in range(1, 11):\n",
    "    for k in range(1, 4):\n",
    "        xpath = '//*[@id=\"react-root\"]/section/main/article/div[2]/div/div['+str(i)+']/div['+str(k)+']/a'\n",
    "        xpath_list.append(xpath)\n",
    "\n",
    "xpath_list"
   ]
  },
  {
   "cell_type": "code",
   "execution_count": 34,
   "metadata": {},
   "outputs": [
    {
     "data": {
      "text/plain": [
       "30"
      ]
     },
     "execution_count": 34,
     "metadata": {},
     "output_type": "execute_result"
    }
   ],
   "source": [
    "# 인스타 게시물 URL 수집 (get_attribute)\n",
    "# url의 속성 가져오자.\n",
    "\n",
    "url_list = []\n",
    "\n",
    "for i in range(len(xpath_list)):\n",
    "    url = driver.find_element_by_xpath(xpath_list[i]).get_attribute('href')\n",
    "    url_list.append(url)\n",
    "    \n",
    "len(url_list)"
   ]
  },
  {
   "cell_type": "code",
   "execution_count": 35,
   "metadata": {},
   "outputs": [],
   "source": [
    "# url_list 불러오기\n",
    "driver.get(url_list[1])"
   ]
  },
  {
   "cell_type": "code",
   "execution_count": 36,
   "metadata": {},
   "outputs": [],
   "source": [
    "# BeautifulSoup으로 파싱\n",
    "\n",
    "html = driver.page_source\n",
    "soup = BeautifulSoup(html, 'lxml')"
   ]
  },
  {
   "cell_type": "code",
   "execution_count": 37,
   "metadata": {},
   "outputs": [
    {
     "data": {
      "text/plain": [
       "'jaehyunluvs77'"
      ]
     },
     "execution_count": 37,
     "metadata": {},
     "output_type": "execute_result"
    }
   ],
   "source": [
    "soup.find_all(\"div\", attrs = {\"class\":\"C4VMK\"})[0].find_all(\"a\")[0].text\n",
    "# 첫번째 컨테이너 안에서 a 태그만 가져오기 그 중 첫번째만! -> 인스타 아이디 출력\n",
    "# 여러번 인덱싱하면서 규칙찾기"
   ]
  },
  {
   "cell_type": "code",
   "execution_count": 38,
   "metadata": {},
   "outputs": [
    {
     "data": {
      "text/plain": [
       "'27분'"
      ]
     },
     "execution_count": 38,
     "metadata": {},
     "output_type": "execute_result"
    }
   ],
   "source": [
    "soup.find_all(\"div\", attrs = {\"class\":\"C4VMK\"})[0].find_all('div')[-1].text"
   ]
  },
  {
   "cell_type": "code",
   "execution_count": 39,
   "metadata": {},
   "outputs": [
    {
     "data": {
      "text/plain": [
       "\"Wkwkwkw yang lain mah pada oleng🤣┏━━━━━━°⌜ 정재현 ⌟°━━━━━━┓┊⁀➷ Tag and share with your friends😉┊⁀➷ Don't forget to follow\\xa0-ˋˏ @jaehyunluvs77 ˎˊ-┊⁀➷ Don't forget to like & comment☺️┊⁀➷ Repost? Tag or Credit🙂┗━━━━━━°⌜ 정재현 ⌟°━━━━━━┛─ ✎⋅⋅⋅#정재현 #엔시티 #엔시티127 #nct #nct127 #nctu #nctdream #nctmark #ncttaeyong #ncttaeil #nctjungwoo #nctjohnny #nctdoyoung #ncthaechan #jaehyunnct #jungjaehyun #jaehyunjung #jungjaehyunnct #jungyoonoh #nctjaehyun #jeongjaehyun #jaehyunnct127 #jaehyunvideo #jaehyunedit #jaehyunmeme #kpop #boyfriendmaterial #happyvirus #smentertaiment #jaehyunluvs77\""
      ]
     },
     "execution_count": 39,
     "metadata": {},
     "output_type": "execute_result"
    }
   ],
   "source": [
    "soup.find_all(\"div\", attrs = {\"class\":\"C4VMK\"})[0].find_all(\"span\")[1].text"
   ]
  },
  {
   "cell_type": "code",
   "execution_count": 40,
   "metadata": {},
   "outputs": [
    {
     "data": {
      "text/plain": [
       "'#정재현'"
      ]
     },
     "execution_count": 40,
     "metadata": {},
     "output_type": "execute_result"
    }
   ],
   "source": [
    "soup.find_all(\"div\", attrs = {\"class\":\"C4VMK\"})[0].find_all(\"span\")[1].find_all(\"a\")[1].text"
   ]
  },
  {
   "cell_type": "code",
   "execution_count": 41,
   "metadata": {},
   "outputs": [
    {
     "name": "stderr",
     "output_type": "stream",
     "text": [
      "100%|██████████████████████████████████████████████████████████████████████████████████| 30/30 [01:48<00:00,  3.15s/it]\n"
     ]
    }
   ],
   "source": [
    "# 정재현 태그로 찾아본 결과\n",
    "from tqdm import tqdm\n",
    "import random\n",
    "\n",
    "driver.get('https://www.instagram.com/explore/tags/%EC%A0%95%EC%9E%AC%ED%98%84/')\n",
    "\n",
    "result_list = []\n",
    "page_scroll = 0\n",
    "\n",
    "# 자동 스크롤러로 xpath를 확인할 수 있게 함\n",
    "while page_scroll < 20:\n",
    "    driver.find_element_by_tag_name('body').send_keys(Keys.PAGE_DOWN)\n",
    "    time.sleep(2)\n",
    "    page_scroll += 1\n",
    "\n",
    "# 크롤링 코드    \n",
    "for k in tqdm(range(0, 30)):\n",
    "    driver.get(url_list[k])\n",
    "    time.sleep(random.uniform(1, 3))\n",
    "\n",
    "    source = driver.page_source\n",
    "    \n",
    "    soup = BeautifulSoup(source, 'html.parser')\n",
    "    \n",
    "    try:\n",
    "        # 작성자ID\n",
    "        username = soup.find_all(\"div\", attrs = {\"class\":\"C4VMK\"})[0].find_all(\"a\")[0].text\n",
    "        \n",
    "        # 작성 시간\n",
    "        report_time = soup.find_all(\"div\", attrs = {\"class\":\"C4VMK\"})[0].find_all(\"div\")[2].text\n",
    "\n",
    "        # 작성 내용 (해시태그 포함된 코드)\n",
    "        main = soup.find_all(\"div\", attrs = {\"class\":\"C4VMK\"})[0].find_all(\"span\")[1].text\n",
    "        \n",
    "        # 해시태그 (시간 상 3개만 실습해봅시다!)\n",
    "        hashtag_1 = soup.find_all(\"div\", attrs = {\"class\":\"C4VMK\"})[0].find_all(\"span\")[1].find_all(\"a\")[0].text\n",
    "        hashtag_2 = soup.find_all(\"div\", attrs = {\"class\":\"C4VMK\"})[0].find_all(\"span\")[1].find_all(\"a\")[1].text\n",
    "        hashtag_3 = soup.find_all(\"div\", attrs = {\"class\":\"C4VMK\"})[0].find_all(\"span\")[1].find_all(\"a\")[2].text\n",
    "\n",
    "        # 이미지 파일 난이도가 조금 있다고 판단하여 개인실습으로 대체하겠습니다! \n",
    "        # https://kimflstudio.tistory.com/entry/%ED%8C%8C%EC%9D%B4%EC%8D%AC-%EC%9D%B8%EC%8A%A4%ED%83%80%EA%B7%B8%EB%9E%A8-%ED%81%AC%EB%A1%A4%EB%A7%81-%EC%9D%B4%EB%AF%B8%EC%A7%80-%EB%8B%A4%EC%9A%B4%EB%A1%9C%EB%93%9C-beautifulsoup-selenium-%EC%82%AC%EC%9A%A9%EB%B2%95\n",
    "\n",
    "    except: # 게시글이 삭제되었을 경우 공란으로 처리\n",
    "        username = ''\n",
    "        report_time = ''\n",
    "        main = ''\n",
    "        hashtag_1 = ''\n",
    "        hashtag_2 = ''\n",
    "        hashtag_3 = ''\n",
    "        continue\n",
    "        \n",
    "    result = username, report_time, main, hashtag_1, hashtag_2, hashtag_3\n",
    "    result_list.append(result)"
   ]
  },
  {
   "cell_type": "code",
   "execution_count": 42,
   "metadata": {},
   "outputs": [
    {
     "data": {
      "text/html": [
       "<div>\n",
       "<style scoped>\n",
       "    .dataframe tbody tr th:only-of-type {\n",
       "        vertical-align: middle;\n",
       "    }\n",
       "\n",
       "    .dataframe tbody tr th {\n",
       "        vertical-align: top;\n",
       "    }\n",
       "\n",
       "    .dataframe thead th {\n",
       "        text-align: right;\n",
       "    }\n",
       "</style>\n",
       "<table border=\"1\" class=\"dataframe\">\n",
       "  <thead>\n",
       "    <tr style=\"text-align: right;\">\n",
       "      <th></th>\n",
       "      <th>ID</th>\n",
       "      <th>작성시간</th>\n",
       "      <th>내용</th>\n",
       "      <th>해시태그1</th>\n",
       "      <th>해시태그2</th>\n",
       "      <th>해시태그3</th>\n",
       "    </tr>\n",
       "  </thead>\n",
       "  <tbody>\n",
       "    <tr>\n",
       "      <th>0</th>\n",
       "      <td>jaehyunluvs77</td>\n",
       "      <td>1시간</td>\n",
       "      <td>Wkwkwkw yang lain mah pada oleng🤣┏━━━━━━°⌜ 정재현...</td>\n",
       "      <td>@jaehyunluvs77</td>\n",
       "      <td>#정재현</td>\n",
       "      <td>#엔시티</td>\n",
       "    </tr>\n",
       "    <tr>\n",
       "      <th>1</th>\n",
       "      <td>jjaehyunpeachy</td>\n",
       "      <td>1시간</td>\n",
       "      <td>Jaehyun’s birthday and Dear.M ads bus by apeac...</td>\n",
       "      <td>@jjaehyunpeachy</td>\n",
       "      <td>#JAEHYUN</td>\n",
       "      <td>#JUNGJAEHYUN</td>\n",
       "    </tr>\n",
       "    <tr>\n",
       "      <th>2</th>\n",
       "      <td>nojaeluv</td>\n",
       "      <td>1시간</td>\n",
       "      <td>저는 이 폴카가 정말 좋아요#nctzen好きな人と繋がりたい #nctzenと繋がりたい...</td>\n",
       "      <td>#nctzen好きな人と繋がりたい</td>\n",
       "      <td>#nctzenと繋がりたい</td>\n",
       "      <td>#시즈니</td>\n",
       "    </tr>\n",
       "    <tr>\n",
       "      <th>3</th>\n",
       "      <td>jaehyunpeaches</td>\n",
       "      <td>1시간</td>\n",
       "      <td>Jaehyun Bus Ad 😍😍—©®: wwwjuu_comAd by: apeachf...</td>\n",
       "      <td>#재현</td>\n",
       "      <td>#정재현</td>\n",
       "      <td>#정윤오</td>\n",
       "    </tr>\n",
       "    <tr>\n",
       "      <th>4</th>\n",
       "      <td>idoland.cafe</td>\n",
       "      <td>3시간</td>\n",
       "      <td>🍑2021 HAPPY JAEHYUN DAY🍑﻿﻿過完年後就是我們情人節男孩鄭在玹的生日啦...</td>\n",
       "      <td>@happy.nity</td>\n",
       "      <td>@jh_monkyun</td>\n",
       "      <td>@idoland.cafe</td>\n",
       "    </tr>\n",
       "    <tr>\n",
       "      <th>5</th>\n",
       "      <td>dsjjj_77</td>\n",
       "      <td>3시간</td>\n",
       "      <td>짱재현..!..#시즈니맞팔 #재현 #정재현</td>\n",
       "      <td>#시즈니맞팔</td>\n",
       "      <td>#재현</td>\n",
       "      <td>#정재현</td>\n",
       "    </tr>\n",
       "    <tr>\n",
       "      <th>6</th>\n",
       "      <td>jaehyunatsumi</td>\n",
       "      <td>3시간</td>\n",
       "      <td>❤︎ ❤︎ ❤︎﻿﻿𝖶𝖾𝗅𝖼𝗈𝗆𝖾 𝗍𝗈 𝖨𝗇𝗌𝗍𝖺𝗀𝗋𝖺𝗆 𝗐𝗁𝗈 𝗅𝗈𝗏𝖾𝗌 𝖩𝖺𝖾𝗁𝗒...</td>\n",
       "      <td>@xiaojunatsumi</td>\n",
       "      <td>#nct</td>\n",
       "      <td>#nct127</td>\n",
       "    </tr>\n",
       "    <tr>\n",
       "      <th>7</th>\n",
       "      <td>jaehyuntumblr</td>\n",
       "      <td>5시간</td>\n",
       "      <td>double kill!!cr: pinterest#재현 #귀엽다 #정...</td>\n",
       "      <td>#재현</td>\n",
       "      <td>#귀엽다</td>\n",
       "      <td>#정재현</td>\n",
       "    </tr>\n",
       "    <tr>\n",
       "      <th>8</th>\n",
       "      <td>bucinjaehyun</td>\n",
       "      <td>6시간</td>\n",
       "      <td>Seger banget pagi-pagi 😍#bucinjaehyun ~~Photo ...</td>\n",
       "      <td>#bucinjaehyun</td>\n",
       "      <td>@bucinjaehyun</td>\n",
       "      <td>#NCT2020</td>\n",
       "    </tr>\n",
       "    <tr>\n",
       "      <th>9</th>\n",
       "      <td>tag_korea_</td>\n",
       "      <td>6시간</td>\n",
       "      <td>시세극악 포카중 #NCT_인기포카모음 .jpg..@@백만원 넘는 포카도 있다고 함....</td>\n",
       "      <td>#NCT_인기포카모음</td>\n",
       "      <td>@tag_korea_</td>\n",
       "      <td>#태그코리아</td>\n",
       "    </tr>\n",
       "    <tr>\n",
       "      <th>10</th>\n",
       "      <td>jaehyunatsumi</td>\n",
       "      <td>6시간</td>\n",
       "      <td>❤︎ ❤︎ ❤︎﻿﻿♬ センイル関係無く 楽しいから作っている カプホたち ♡﻿﻿𝖶𝖾𝗅𝖼𝗈...</td>\n",
       "      <td>@xiaojunatsumi</td>\n",
       "      <td>#nct</td>\n",
       "      <td>#nct127</td>\n",
       "    </tr>\n",
       "    <tr>\n",
       "      <th>11</th>\n",
       "      <td>_jeongcawaiihyun_</td>\n",
       "      <td>6시간답글 달기</td>\n",
       "      <td>#재현#정재현#jaehyun#ジェヒョン#시즈니#시즈니맞팔#nct好きな人と繋がりたい#...</td>\n",
       "      <td>#재현</td>\n",
       "      <td>#정재현</td>\n",
       "      <td>#jaehyun</td>\n",
       "    </tr>\n",
       "    <tr>\n",
       "      <th>12</th>\n",
       "      <td>jaehyunarea_</td>\n",
       "      <td>6시간</td>\n",
       "      <td>Taeyong back😘😘😘😭I love you @_jeongjaehyunDont ...</td>\n",
       "      <td>@_jeongjaehyun</td>\n",
       "      <td>@jaehyunarea_</td>\n",
       "      <td>#정재현</td>\n",
       "    </tr>\n",
       "    <tr>\n",
       "      <th>13</th>\n",
       "      <td>jaehyunarea_</td>\n",
       "      <td>7시간</td>\n",
       "      <td>Gantengnya ga manusiawi🍑🍑🍑🙈I love you @_jeongj...</td>\n",
       "      <td>@_jeongjaehyun</td>\n",
       "      <td>@jaehyunarea_</td>\n",
       "      <td>#정재현</td>\n",
       "    </tr>\n",
       "    <tr>\n",
       "      <th>14</th>\n",
       "      <td>jaehyunxnaeun</td>\n",
       "      <td>7시간</td>\n",
       "      <td>Whenever Naeun makes a mistake she always turn...</td>\n",
       "      <td>#jaehyun</td>\n",
       "      <td>#재현</td>\n",
       "      <td>#정재현</td>\n",
       "    </tr>\n",
       "    <tr>\n",
       "      <th>15</th>\n",
       "      <td>jaehyunarea_</td>\n",
       "      <td>7시간</td>\n",
       "      <td>[INFO] 210210 NCT127 akan menampilkan lagu \"gi...</td>\n",
       "      <td>@_jeongjaehyun</td>\n",
       "      <td>@jaehyunarea_</td>\n",
       "      <td>#정재현</td>\n",
       "    </tr>\n",
       "    <tr>\n",
       "      <th>16</th>\n",
       "      <td>jaehyunsir</td>\n",
       "      <td>8시간</td>\n",
       "      <td>freshh bngtt jaehyun inii( ˘ ³˘) and finally T...</td>\n",
       "      <td>@jaehyunsir</td>\n",
       "      <td>#nct127</td>\n",
       "      <td>#nct</td>\n",
       "    </tr>\n",
       "    <tr>\n",
       "      <th>17</th>\n",
       "      <td>fyijaehyun.id</td>\n",
       "      <td>8시간</td>\n",
       "      <td>Fiks jehyun udh ga canggung lagi ama nuna nya😭...</td>\n",
       "      <td>@fyijaehyun.id</td>\n",
       "      <td>@_jeongjaehyun</td>\n",
       "      <td>#jaehyun</td>\n",
       "    </tr>\n",
       "    <tr>\n",
       "      <th>18</th>\n",
       "      <td>jaehyunatsumi</td>\n",
       "      <td>8시간</td>\n",
       "      <td>❤︎ ❤︎ ❤︎﻿﻿𝖶𝖾𝗅𝖼𝗈𝗆𝖾 𝗍𝗈 𝖨𝗇𝗌𝗍𝖺𝗀𝗋𝖺𝗆 𝗐𝗁𝗈 𝗅𝗈𝗏𝖾𝗌 𝖩𝖺𝖾𝗁𝗒...</td>\n",
       "      <td>@xiaojunatsumi</td>\n",
       "      <td>#nct</td>\n",
       "      <td>#nct127</td>\n",
       "    </tr>\n",
       "    <tr>\n",
       "      <th>19</th>\n",
       "      <td>jaehyunatsumi</td>\n",
       "      <td>8시간</td>\n",
       "      <td>❤︎ ❤︎ ❤︎﻿﻿𝖶𝖾𝗅𝖼𝗈𝗆𝖾 𝗍𝗈 𝖨𝗇𝗌𝗍𝖺𝗀𝗋𝖺𝗆 𝗐𝗁𝗈 𝗅𝗈𝗏𝖾𝗌 𝖩𝖺𝖾𝗁𝗒...</td>\n",
       "      <td>@xiaojunatsumi</td>\n",
       "      <td>#nct</td>\n",
       "      <td>#nct127</td>\n",
       "    </tr>\n",
       "  </tbody>\n",
       "</table>\n",
       "</div>"
      ],
      "text/plain": [
       "                   ID      작성시간  \\\n",
       "0       jaehyunluvs77       1시간   \n",
       "1      jjaehyunpeachy       1시간   \n",
       "2            nojaeluv       1시간   \n",
       "3      jaehyunpeaches       1시간   \n",
       "4        idoland.cafe       3시간   \n",
       "5            dsjjj_77       3시간   \n",
       "6       jaehyunatsumi       3시간   \n",
       "7       jaehyuntumblr       5시간   \n",
       "8        bucinjaehyun       6시간   \n",
       "9          tag_korea_       6시간   \n",
       "10      jaehyunatsumi       6시간   \n",
       "11  _jeongcawaiihyun_  6시간답글 달기   \n",
       "12       jaehyunarea_       6시간   \n",
       "13       jaehyunarea_       7시간   \n",
       "14      jaehyunxnaeun       7시간   \n",
       "15       jaehyunarea_       7시간   \n",
       "16         jaehyunsir       8시간   \n",
       "17      fyijaehyun.id       8시간   \n",
       "18      jaehyunatsumi       8시간   \n",
       "19      jaehyunatsumi       8시간   \n",
       "\n",
       "                                                   내용              해시태그1  \\\n",
       "0   Wkwkwkw yang lain mah pada oleng🤣┏━━━━━━°⌜ 정재현...     @jaehyunluvs77   \n",
       "1   Jaehyun’s birthday and Dear.M ads bus by apeac...    @jjaehyunpeachy   \n",
       "2   저는 이 폴카가 정말 좋아요#nctzen好きな人と繋がりたい #nctzenと繋がりたい...  #nctzen好きな人と繋がりたい   \n",
       "3   Jaehyun Bus Ad 😍😍—©®: wwwjuu_comAd by: apeachf...                #재현   \n",
       "4   🍑2021 HAPPY JAEHYUN DAY🍑﻿﻿過完年後就是我們情人節男孩鄭在玹的生日啦...        @happy.nity   \n",
       "5                        짱재현..!..#시즈니맞팔 #재현 #정재현             #시즈니맞팔   \n",
       "6   ❤︎ ❤︎ ❤︎﻿﻿𝖶𝖾𝗅𝖼𝗈𝗆𝖾 𝗍𝗈 𝖨𝗇𝗌𝗍𝖺𝗀𝗋𝖺𝗆 𝗐𝗁𝗈 𝗅𝗈𝗏𝖾𝗌 𝖩𝖺𝖾𝗁𝗒...     @xiaojunatsumi   \n",
       "7   double kill!!cr: pinterest#재현 #귀엽다 #정...             #재현   \n",
       "8   Seger banget pagi-pagi 😍#bucinjaehyun ~~Photo ...      #bucinjaehyun   \n",
       "9   시세극악 포카중 #NCT_인기포카모음 .jpg..@@백만원 넘는 포카도 있다고 함....        #NCT_인기포카모음   \n",
       "10  ❤︎ ❤︎ ❤︎﻿﻿♬ センイル関係無く 楽しいから作っている カプホたち ♡﻿﻿𝖶𝖾𝗅𝖼𝗈...     @xiaojunatsumi   \n",
       "11  #재현#정재현#jaehyun#ジェヒョン#시즈니#시즈니맞팔#nct好きな人と繋がりたい#...                #재현   \n",
       "12  Taeyong back😘😘😘😭I love you @_jeongjaehyunDont ...     @_jeongjaehyun   \n",
       "13  Gantengnya ga manusiawi🍑🍑🍑🙈I love you @_jeongj...     @_jeongjaehyun   \n",
       "14  Whenever Naeun makes a mistake she always turn...           #jaehyun   \n",
       "15  [INFO] 210210 NCT127 akan menampilkan lagu \"gi...     @_jeongjaehyun   \n",
       "16  freshh bngtt jaehyun inii( ˘ ³˘) and finally T...        @jaehyunsir   \n",
       "17  Fiks jehyun udh ga canggung lagi ama nuna nya😭...     @fyijaehyun.id   \n",
       "18  ❤︎ ❤︎ ❤︎﻿﻿𝖶𝖾𝗅𝖼𝗈𝗆𝖾 𝗍𝗈 𝖨𝗇𝗌𝗍𝖺𝗀𝗋𝖺𝗆 𝗐𝗁𝗈 𝗅𝗈𝗏𝖾𝗌 𝖩𝖺𝖾𝗁𝗒...     @xiaojunatsumi   \n",
       "19  ❤︎ ❤︎ ❤︎﻿﻿𝖶𝖾𝗅𝖼𝗈𝗆𝖾 𝗍𝗈 𝖨𝗇𝗌𝗍𝖺𝗀𝗋𝖺𝗆 𝗐𝗁𝗈 𝗅𝗈𝗏𝖾𝗌 𝖩𝖺𝖾𝗁𝗒...     @xiaojunatsumi   \n",
       "\n",
       "             해시태그2          해시태그3  \n",
       "0             #정재현           #엔시티  \n",
       "1         #JAEHYUN   #JUNGJAEHYUN  \n",
       "2    #nctzenと繋がりたい           #시즈니  \n",
       "3             #정재현           #정윤오  \n",
       "4      @jh_monkyun  @idoland.cafe  \n",
       "5              #재현           #정재현  \n",
       "6             #nct        #nct127  \n",
       "7         #귀엽다      #정재현  \n",
       "8    @bucinjaehyun       #NCT2020  \n",
       "9      @tag_korea_         #태그코리아  \n",
       "10            #nct        #nct127  \n",
       "11            #정재현       #jaehyun  \n",
       "12   @jaehyunarea_           #정재현  \n",
       "13   @jaehyunarea_           #정재현  \n",
       "14             #재현           #정재현  \n",
       "15   @jaehyunarea_           #정재현  \n",
       "16         #nct127           #nct  \n",
       "17  @_jeongjaehyun       #jaehyun  \n",
       "18            #nct        #nct127  \n",
       "19            #nct        #nct127  "
      ]
     },
     "execution_count": 42,
     "metadata": {},
     "output_type": "execute_result"
    }
   ],
   "source": [
    "# 수집된 데이터 확인\n",
    "import pandas as pd\n",
    "df_insta = pd.DataFrame(result_list, columns = ['ID', '작성시간', '내용', '해시태그1', '해시태그2', '해시태그3'])\n",
    "df_insta"
   ]
  },
  {
   "cell_type": "markdown",
   "metadata": {},
   "source": [
    "꼭 알아두어야 할 내용\n",
    "-----\n",
    "1. 크롤링에는 대표적으로 두 가지 (Selenium과 BeautifulSoup)라는 라이브러리를 사용한다.\n",
    "\n",
    "2. Selenium은 웹을 동작시키는 데, BeautifulSoup은 html 정보를 파싱하는 데 활용한다.\n",
    "\n",
    "3. Selenium은 동적 크롤링을 효과적으로 수행할 수 있지만 라이브러리 자체가 무겁고, 자주 막히기 때문에 Requests와 BeautifulSoup으로 해결이 가능하다면 최대한 해결해보자.\n",
    "\n",
    "3. BeautifulSoup에서는 `soup = BeautifulSoup(html,'lxml')`을 설정한다.\n",
    "\n",
    "4. `soup.find_all(<b>'태그'</b>, attrs = {<b>'속성'</b> : <b>'속성 정보'</b>})`의 구조로 검색한다. (soup.find()의 경우도 동일)\n",
    "\n",
    "5. soup.find_all()의 경우에는 리스트 형태로 결괏값을 반환하기 때문에 인덱싱을 해주어야 다른 함수들을 활용할 수 있다.(.text, .get 등)\n",
    "\n",
    "6. 부모 태그를 가지고 온 경우에 더 파싱이 가능하다. ex) `soup.find(<b>'부모 태그'</b>).find(<b>'자식 태그'</b>)` (실제 본인이 원하는 데이터를 얻고자 할 때 html 구조에서 헤매는 경우를 해결해 줄 수 있다.)\n",
    "\n",
    "6. Selenium으로 페이지의 html 정보를 가지고 오는 경우 `driver.page_source`\n",
    "\n",
    "7. Selenium으로 웹을 동작시킬 때는 `driver.find_element_by_xpath(<b>'복사한 xpath'</b>)`를 활용한다. 대표적으로 .click(), .send_keys() 등이 있다.\n",
    "\n",
    "8. 스크립트를 실행하고 싶을 때는 `driver.execute_script(<b>'원하는 명령어'</b>)`를 활용할 수 있다.\n",
    "\n",
    "9. URL이나 xpath를 활용하는 경우에는 규칙을 찾아서 만들어두는 것이 작업 속도를 훨씬 높여준다.\n",
    "\n",
    "10. 좀 더 수준높은 크롤링을 해보고 싶다면 구글링을 해보자. (BeautifulSoup, Selenium의 딱딱한 형식을 따르지 않고도 빠르고 가볍게 만든 크롤러들을 참고해보자!, 방식도 굉장히 다양하다) "
   ]
  },
  {
   "cell_type": "code",
   "execution_count": null,
   "metadata": {},
   "outputs": [],
   "source": []
  }
 ],
 "metadata": {
  "kernelspec": {
   "display_name": "Python 3",
   "language": "python",
   "name": "python3"
  },
  "language_info": {
   "codemirror_mode": {
    "name": "ipython",
    "version": 3
   },
   "file_extension": ".py",
   "mimetype": "text/x-python",
   "name": "python",
   "nbconvert_exporter": "python",
   "pygments_lexer": "ipython3",
   "version": "3.7.3"
  }
 },
 "nbformat": 4,
 "nbformat_minor": 4
}
